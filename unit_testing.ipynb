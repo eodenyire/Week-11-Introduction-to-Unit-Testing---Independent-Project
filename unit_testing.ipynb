{
  "nbformat": 4,
  "nbformat_minor": 0,
  "metadata": {
    "colab": {
      "provenance": []
    },
    "kernelspec": {
      "name": "python3",
      "display_name": "Python 3"
    },
    "language_info": {
      "name": "python"
    }
  },
  "cells": [
    {
      "cell_type": "markdown",
      "source": [
        "# Telecommunication Billing Data Pipeline Unit Testing\n",
        "\n",
        "This project focuses on unit testing for a Telecommunication Billing Data Pipeline. The data pipeline is responsible for extracting data from a CSV file, performing transformations using pandas, and storing the transformed data in another CSV file. The unit tests will ensure that the data pipeline functions correctly and handles various scenarios and edge cases.\n",
        "\n",
        "## Background Information\n",
        "\n",
        "The Telecommunication Billing Data Pipeline project aims to process telecommunication billing data. The provided data pipeline consists of three main functions:\n",
        "\n",
        "- `data_extraction`: Extracts data from a CSV file.\n",
        "- `data_transformation`: Performs transformations on the extracted data.\n",
        "- `data_loading`: Loads the transformed data into another CSV file.\n",
        "\n",
        "## Guidelines for Unit Testing\n",
        "\n",
        "To effectively test the Telecommunication Billing Data Pipeline, the following guidelines should be followed:\n",
        "\n",
        "- Use the `unittest` framework to create test cases for each function in the data pipeline.\n",
        "- Write at least three test cases for each function, covering different scenarios and edge cases.\n",
        "- Ensure that your tests are independent and do not rely on each other.\n",
        "- Name your test methods descriptively to indicate the scenario being tested.\n",
        "- Use assertions to validate the expected behavior of each function.\n",
        "- Provide informative error messages when assertions fail to aid in debugging.\n",
        "\n",
        "## Sample Input Dataset\n",
        "\n",
        "A sample CSV file named `billing_data.csv` has been provided. It contains telecommunication billing data with the following columns: 'customer_id', 'billing_amount', and 'tax_amount'. You can use this file as the input for your unit tests.\n",
        "\n",
        "## Starting Code\n",
        "\n",
        "The starting code includes the data pipeline functions (`data_extraction`, `data_transformation`, `data_loading`) and an empty `TestDataPipeline` test class. You need to write the unit tests for each function within this class.\n",
        "\n",
        "Refer to the comments in the code for further instructions and guidance.\n",
        "\n",
        "## Running the Unit Tests\n",
        "\n",
        "To run the unit tests, execute the following code in the Colab notebook:\n",
        "\n"
      ],
      "metadata": {
        "id": "iTLSc-MbIVZb"
      }
    },
    {
      "cell_type": "code",
      "source": [
        "!python unit_testing.py"
      ],
      "metadata": {
        "id": "07qneqJaJWrU"
      },
      "execution_count": null,
      "outputs": []
    },
    {
      "cell_type": "markdown",
      "source": [
        "The test results will be displayed in the notebook."
      ],
      "metadata": {
        "id": "bbjo5XDgJbjN"
      }
    },
    {
      "cell_type": "markdown",
      "source": [
        "The code implementingthis project assignment should be saved in a file named unit_testing.py in the same directory as the CSV files (billing_data.csv and output.csv).\n",
        "\n",
        "This code includes the three test cases for each function (data_extraction, data_transformation, data_loading) as described in the project description. It compares the expected results with the actual results using assertions to validate the correctness of the functions."
      ],
      "metadata": {
        "id": "jxfLuE5uJlGe"
      }
    },
    {
      "cell_type": "code",
      "execution_count": null,
      "metadata": {
        "id": "zjB5k9PV8Llw"
      },
      "outputs": [],
      "source": [
        "import pandas as pd\n",
        "import unittest\n",
        "\n",
        "def data_extraction(file_path):\n",
        "    data = pd.read_csv(file_path)\n",
        "    return data\n",
        "\n",
        "def data_transformation(data):\n",
        "    data = data.drop_duplicates()\n",
        "    data['billing_amount'] = data['billing_amount'].str.replace('$', '').astype(float)\n",
        "    data['total_charges'] = data['billing_amount'] + data['tax_amount']\n",
        "    return data\n",
        "\n",
        "def data_loading(data, output_file):\n",
        "    data.to_csv(output_file, index=False)\n",
        "\n",
        "class TestDataPipeline(unittest.TestCase):\n",
        "    def test_data_extraction(self):\n",
        "        # Test if data is extracted correctly from the CSV file\n",
        "        expected_result = pd.DataFrame({\n",
        "            'customer_id': [1, 2, 3, 4, 5],\n",
        "            'billing_amount': [100.0, 200.0, 300.0, 400.0, 500.0],\n",
        "            'tax_amount': [10.0, 20.0, 30.0, 40.0, 50.0]\n",
        "        })\n",
        "        result = data_extraction('billing_data.csv')\n",
        "        self.assertTrue(result.equals(expected_result), \"Data extraction failed\")\n",
        "\n",
        "    def test_data_transformation(self):\n",
        "        # Test if data transformation is performed correctly\n",
        "        input_data = pd.DataFrame({\n",
        "            'customer_id': [1, 2, 3],\n",
        "            'billing_amount': [100.0, 200.0, 150.0],\n",
        "            'tax_amount': [10.0, 20.0, 15.0]\n",
        "        })\n",
        "        expected_result = pd.DataFrame({\n",
        "            'customer_id': [1, 2, 3],\n",
        "            'billing_amount': [100.0, 200.0, 150.0],\n",
        "            'tax_amount': [10.0, 20.0, 15.0],\n",
        "            'total_charges': [110.0, 220.0, 165.0]\n",
        "        })\n",
        "        result = data_transformation(input_data)\n",
        "        self.assertTrue(result.equals(expected_result), \"Data transformation failed\")\n",
        "\n",
        "    def test_data_loading(self):\n",
        "        # Test if data is loaded correctly into the CSV file\n",
        "        input_data = pd.DataFrame({\n",
        "            'customer_id': [1, 2, 3],\n",
        "            'total_charges': [110.0, 220.0, 165.0]\n",
        "        })\n",
        "        expected_result = input_data\n",
        "        data_loading(input_data, 'output.csv')\n",
        "        result = pd.read_csv('output.csv')\n",
        "        self.assertTrue(result.equals(expected_result), \"Data loading failed\")\n",
        "\n",
        "if __name__ == '__main__':\n",
        "    unittest.main()\n"
      ]
    }
  ]
}